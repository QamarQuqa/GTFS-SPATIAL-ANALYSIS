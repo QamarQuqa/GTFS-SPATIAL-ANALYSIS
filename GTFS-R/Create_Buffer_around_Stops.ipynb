{
 "cells": [
  {
   "cell_type": "markdown",
   "metadata": {},
   "source": [
    "## `This notebook create buffer around stops in gtfs file then get geopoint in gtfs-r in order to check if this point in range buffer stop or not `"
   ]
  },
  {
   "cell_type": "code",
   "execution_count": 2,
   "metadata": {},
   "outputs": [],
   "source": [
    "# Import package\n",
    "\n",
    "import pandas as pd  # data processing\n",
    "import numpy as np  # linear algebra\n",
    "from pandas import DataFrame\n",
    "import geopandas as gpd\n",
    "from shapely.geometry import Point\n",
    "import matplotlib.pyplot as plt\n",
    "import geopandas as gpd\n",
    "from shapely.geometry.polygon import Polygon\n",
    "from shapely.geometry import Point, LineString\n",
    "import geopandas as gpd\n",
    "from shapely import wkt\n",
    "pd.options.mode.chained_assignment = None  # default='warn'\n",
    "\n",
    "from shapely.geometry import Point\n",
    "from shapely.geometry.polygon import Polygon\n",
    "\n",
    "from tqdm.notebook import tqdm\n"
   ]
  },
  {
   "cell_type": "code",
   "execution_count": 3,
   "metadata": {},
   "outputs": [],
   "source": [
    "stops = pd.read_csv(\"stops.csv\")"
   ]
  },
  {
   "cell_type": "code",
   "execution_count": 4,
   "metadata": {},
   "outputs": [
    {
     "data": {
      "text/html": [
       "<div>\n",
       "<style scoped>\n",
       "    .dataframe tbody tr th:only-of-type {\n",
       "        vertical-align: middle;\n",
       "    }\n",
       "\n",
       "    .dataframe tbody tr th {\n",
       "        vertical-align: top;\n",
       "    }\n",
       "\n",
       "    .dataframe thead th {\n",
       "        text-align: right;\n",
       "    }\n",
       "</style>\n",
       "<table border=\"1\" class=\"dataframe\">\n",
       "  <thead>\n",
       "    <tr style=\"text-align: right;\">\n",
       "      <th></th>\n",
       "      <th>stop_id</th>\n",
       "      <th>stop_code</th>\n",
       "      <th>stop_name</th>\n",
       "      <th>location_type</th>\n",
       "      <th>parent_station</th>\n",
       "      <th>wheelchair_boarding</th>\n",
       "      <th>platform_code</th>\n",
       "      <th>geometry</th>\n",
       "    </tr>\n",
       "  </thead>\n",
       "  <tbody>\n",
       "    <tr>\n",
       "      <th>0</th>\n",
       "      <td>287144</td>\n",
       "      <td>287144.0</td>\n",
       "      <td>Wambat St At Regent St</td>\n",
       "      <td>NaN</td>\n",
       "      <td>NaN</td>\n",
       "      <td>0</td>\n",
       "      <td>NaN</td>\n",
       "      <td>POINT (148.007713610419 -33.3946508334905)</td>\n",
       "    </tr>\n",
       "    <tr>\n",
       "      <th>1</th>\n",
       "      <td>287145</td>\n",
       "      <td>287145.0</td>\n",
       "      <td>Oxford St At Wambat St</td>\n",
       "      <td>NaN</td>\n",
       "      <td>NaN</td>\n",
       "      <td>0</td>\n",
       "      <td>NaN</td>\n",
       "      <td>POINT (148.008122107247 -33.3927805302356)</td>\n",
       "    </tr>\n",
       "    <tr>\n",
       "      <th>2</th>\n",
       "      <td>287146</td>\n",
       "      <td>287146.0</td>\n",
       "      <td>Flint St At Oxford St</td>\n",
       "      <td>NaN</td>\n",
       "      <td>NaN</td>\n",
       "      <td>0</td>\n",
       "      <td>NaN</td>\n",
       "      <td>POINT (148.014977179488 -33.3923728991621)</td>\n",
       "    </tr>\n",
       "    <tr>\n",
       "      <th>3</th>\n",
       "      <td>287147</td>\n",
       "      <td>287147.0</td>\n",
       "      <td>Flint St At Bridge St</td>\n",
       "      <td>NaN</td>\n",
       "      <td>NaN</td>\n",
       "      <td>0</td>\n",
       "      <td>NaN</td>\n",
       "      <td>POINT (148.01487970157 -33.390461615881)</td>\n",
       "    </tr>\n",
       "    <tr>\n",
       "      <th>4</th>\n",
       "      <td>287140</td>\n",
       "      <td>287140.0</td>\n",
       "      <td>Apex Riverside Tourist Park, Reymond St</td>\n",
       "      <td>NaN</td>\n",
       "      <td>NaN</td>\n",
       "      <td>0</td>\n",
       "      <td>NaN</td>\n",
       "      <td>POINT (148.018102502361 -33.4022143410961)</td>\n",
       "    </tr>\n",
       "  </tbody>\n",
       "</table>\n",
       "</div>"
      ],
      "text/plain": [
       "  stop_id  stop_code                                stop_name  location_type  \\\n",
       "0  287144   287144.0                   Wambat St At Regent St            NaN   \n",
       "1  287145   287145.0                   Oxford St At Wambat St            NaN   \n",
       "2  287146   287146.0                    Flint St At Oxford St            NaN   \n",
       "3  287147   287147.0                    Flint St At Bridge St            NaN   \n",
       "4  287140   287140.0  Apex Riverside Tourist Park, Reymond St            NaN   \n",
       "\n",
       "  parent_station  wheelchair_boarding platform_code  \\\n",
       "0            NaN                    0           NaN   \n",
       "1            NaN                    0           NaN   \n",
       "2            NaN                    0           NaN   \n",
       "3            NaN                    0           NaN   \n",
       "4            NaN                    0           NaN   \n",
       "\n",
       "                                     geometry  \n",
       "0  POINT (148.007713610419 -33.3946508334905)  \n",
       "1  POINT (148.008122107247 -33.3927805302356)  \n",
       "2  POINT (148.014977179488 -33.3923728991621)  \n",
       "3    POINT (148.01487970157 -33.390461615881)  \n",
       "4  POINT (148.018102502361 -33.4022143410961)  "
      ]
     },
     "execution_count": 4,
     "metadata": {},
     "output_type": "execute_result"
    }
   ],
   "source": [
    "stops.head()"
   ]
  },
  {
   "cell_type": "code",
   "execution_count": 5,
   "metadata": {},
   "outputs": [],
   "source": [
    "stops['geometry'] = stops['geometry'].apply(wkt.loads)\n",
    "stops = gpd.GeoDataFrame(stops)"
   ]
  },
  {
   "cell_type": "code",
   "execution_count": 6,
   "metadata": {},
   "outputs": [
    {
     "data": {
      "text/plain": [
       "0        POINT (148.00771 -33.39465)\n",
       "1        POINT (148.00812 -33.39278)\n",
       "2        POINT (148.01498 -33.39237)\n",
       "3        POINT (148.01488 -33.39046)\n",
       "4        POINT (148.01810 -33.40221)\n",
       "                    ...             \n",
       "51079    POINT (151.16970 -33.82787)\n",
       "51080    POINT (151.17421 -33.80675)\n",
       "51081    POINT (151.16690 -33.83130)\n",
       "51082    POINT (151.16776 -33.83263)\n",
       "51083    POINT (151.16862 -33.82919)\n",
       "Name: geometry, Length: 51084, dtype: geometry"
      ]
     },
     "execution_count": 6,
     "metadata": {},
     "output_type": "execute_result"
    }
   ],
   "source": [
    "points = stops['geometry']\n",
    "points"
   ]
  },
  {
   "cell_type": "code",
   "execution_count": 7,
   "metadata": {},
   "outputs": [],
   "source": [
    "buffer = points.buffer(3, cap_style = 3)\n",
    "s= buffer.to_frame()"
   ]
  },
  {
   "cell_type": "code",
   "execution_count": 8,
   "metadata": {},
   "outputs": [
    {
     "data": {
      "text/html": [
       "<div>\n",
       "<style scoped>\n",
       "    .dataframe tbody tr th:only-of-type {\n",
       "        vertical-align: middle;\n",
       "    }\n",
       "\n",
       "    .dataframe tbody tr th {\n",
       "        vertical-align: top;\n",
       "    }\n",
       "\n",
       "    .dataframe thead th {\n",
       "        text-align: right;\n",
       "    }\n",
       "</style>\n",
       "<table border=\"1\" class=\"dataframe\">\n",
       "  <thead>\n",
       "    <tr style=\"text-align: right;\">\n",
       "      <th></th>\n",
       "      <th>0</th>\n",
       "    </tr>\n",
       "  </thead>\n",
       "  <tbody>\n",
       "    <tr>\n",
       "      <th>0</th>\n",
       "      <td>POLYGON ((151.00771 -30.39465, 151.00771 -36.3...</td>\n",
       "    </tr>\n",
       "    <tr>\n",
       "      <th>1</th>\n",
       "      <td>POLYGON ((151.00812 -30.39278, 151.00812 -36.3...</td>\n",
       "    </tr>\n",
       "    <tr>\n",
       "      <th>2</th>\n",
       "      <td>POLYGON ((151.01498 -30.39237, 151.01498 -36.3...</td>\n",
       "    </tr>\n",
       "    <tr>\n",
       "      <th>3</th>\n",
       "      <td>POLYGON ((151.01488 -30.39046, 151.01488 -36.3...</td>\n",
       "    </tr>\n",
       "    <tr>\n",
       "      <th>4</th>\n",
       "      <td>POLYGON ((151.01810 -30.40221, 151.01810 -36.4...</td>\n",
       "    </tr>\n",
       "    <tr>\n",
       "      <th>...</th>\n",
       "      <td>...</td>\n",
       "    </tr>\n",
       "    <tr>\n",
       "      <th>51079</th>\n",
       "      <td>POLYGON ((154.16970 -30.82787, 154.16970 -36.8...</td>\n",
       "    </tr>\n",
       "    <tr>\n",
       "      <th>51080</th>\n",
       "      <td>POLYGON ((154.17421 -30.80675, 154.17421 -36.8...</td>\n",
       "    </tr>\n",
       "    <tr>\n",
       "      <th>51081</th>\n",
       "      <td>POLYGON ((154.16690 -30.83130, 154.16690 -36.8...</td>\n",
       "    </tr>\n",
       "    <tr>\n",
       "      <th>51082</th>\n",
       "      <td>POLYGON ((154.16776 -30.83263, 154.16776 -36.8...</td>\n",
       "    </tr>\n",
       "    <tr>\n",
       "      <th>51083</th>\n",
       "      <td>POLYGON ((154.16862 -30.82919, 154.16862 -36.8...</td>\n",
       "    </tr>\n",
       "  </tbody>\n",
       "</table>\n",
       "<p>51084 rows × 1 columns</p>\n",
       "</div>"
      ],
      "text/plain": [
       "                                                       0\n",
       "0      POLYGON ((151.00771 -30.39465, 151.00771 -36.3...\n",
       "1      POLYGON ((151.00812 -30.39278, 151.00812 -36.3...\n",
       "2      POLYGON ((151.01498 -30.39237, 151.01498 -36.3...\n",
       "3      POLYGON ((151.01488 -30.39046, 151.01488 -36.3...\n",
       "4      POLYGON ((151.01810 -30.40221, 151.01810 -36.4...\n",
       "...                                                  ...\n",
       "51079  POLYGON ((154.16970 -30.82787, 154.16970 -36.8...\n",
       "51080  POLYGON ((154.17421 -30.80675, 154.17421 -36.8...\n",
       "51081  POLYGON ((154.16690 -30.83130, 154.16690 -36.8...\n",
       "51082  POLYGON ((154.16776 -30.83263, 154.16776 -36.8...\n",
       "51083  POLYGON ((154.16862 -30.82919, 154.16862 -36.8...\n",
       "\n",
       "[51084 rows x 1 columns]"
      ]
     },
     "execution_count": 8,
     "metadata": {},
     "output_type": "execute_result"
    }
   ],
   "source": [
    "s"
   ]
  },
  {
   "cell_type": "code",
   "execution_count": 9,
   "metadata": {},
   "outputs": [],
   "source": [
    "stops_ = stops[['stop_id']]"
   ]
  },
  {
   "cell_type": "code",
   "execution_count": 10,
   "metadata": {},
   "outputs": [],
   "source": [
    "stops_['geometry'] = s"
   ]
  },
  {
   "cell_type": "code",
   "execution_count": 11,
   "metadata": {},
   "outputs": [],
   "source": [
    "stops_.to_csv(\"stops_buffer.csv\", index = False)"
   ]
  },
  {
   "cell_type": "code",
   "execution_count": 18,
   "metadata": {},
   "outputs": [],
   "source": [
    "def plot_bufferpoint(buffer,points):\n",
    "    \n",
    "    fig, ax1 = plt.subplots()\n",
    "    buffer.boundary.plot(ax=ax1, color = 'slategrey')\n",
    "    points.plot(ax = ax1, color = 'red')"
   ]
  },
  {
   "cell_type": "code",
   "execution_count": 17,
   "metadata": {},
   "outputs": [
    {
     "data": {
      "text/plain": [
       "<Figure size 1440x360 with 0 Axes>"
      ]
     },
     "metadata": {},
     "output_type": "display_data"
    },
    {
     "data": {
      "image/png": "[encoded data removed]",
      "text/plain": [
       "<Figure size 432x288 with 1 Axes>"
      ]
     },
     "metadata": {
      "needs_background": "light"
     },
     "output_type": "display_data"
    }
   ],
   "source": [
    "plot_bufferpoint(buffer,points)"
   ]
  },
  {
   "cell_type": "code",
   "execution_count": 19,
   "metadata": {},
   "outputs": [],
   "source": [
    "pr_regions = pd.read_csv(\"stops_buffer.csv\")"
   ]
  },
  {
   "cell_type": "code",
   "execution_count": 20,
   "metadata": {},
   "outputs": [
    {
     "data": {
      "text/html": [
       "<div>\n",
       "<style scoped>\n",
       "    .dataframe tbody tr th:only-of-type {\n",
       "        vertical-align: middle;\n",
       "    }\n",
       "\n",
       "    .dataframe tbody tr th {\n",
       "        vertical-align: top;\n",
       "    }\n",
       "\n",
       "    .dataframe thead th {\n",
       "        text-align: right;\n",
       "    }\n",
       "</style>\n",
       "<table border=\"1\" class=\"dataframe\">\n",
       "  <thead>\n",
       "    <tr style=\"text-align: right;\">\n",
       "      <th></th>\n",
       "      <th>stop_id</th>\n",
       "      <th>geometry</th>\n",
       "    </tr>\n",
       "  </thead>\n",
       "  <tbody>\n",
       "    <tr>\n",
       "      <th>0</th>\n",
       "      <td>287144</td>\n",
       "      <td>POLYGON ((151.007713610419 -30.3946508334905, ...</td>\n",
       "    </tr>\n",
       "    <tr>\n",
       "      <th>1</th>\n",
       "      <td>287145</td>\n",
       "      <td>POLYGON ((151.008122107247 -30.3927805302356, ...</td>\n",
       "    </tr>\n",
       "    <tr>\n",
       "      <th>2</th>\n",
       "      <td>287146</td>\n",
       "      <td>POLYGON ((151.014977179488 -30.3923728991621, ...</td>\n",
       "    </tr>\n",
       "    <tr>\n",
       "      <th>3</th>\n",
       "      <td>287147</td>\n",
       "      <td>POLYGON ((151.01487970157 -30.390461615881, 15...</td>\n",
       "    </tr>\n",
       "    <tr>\n",
       "      <th>4</th>\n",
       "      <td>287140</td>\n",
       "      <td>POLYGON ((151.018102502361 -30.4022143410961, ...</td>\n",
       "    </tr>\n",
       "  </tbody>\n",
       "</table>\n",
       "</div>"
      ],
      "text/plain": [
       "  stop_id                                           geometry\n",
       "0  287144  POLYGON ((151.007713610419 -30.3946508334905, ...\n",
       "1  287145  POLYGON ((151.008122107247 -30.3927805302356, ...\n",
       "2  287146  POLYGON ((151.014977179488 -30.3923728991621, ...\n",
       "3  287147  POLYGON ((151.01487970157 -30.390461615881, 15...\n",
       "4  287140  POLYGON ((151.018102502361 -30.4022143410961, ..."
      ]
     },
     "execution_count": 20,
     "metadata": {},
     "output_type": "execute_result"
    }
   ],
   "source": [
    "pr_regions.head()"
   ]
  },
  {
   "cell_type": "code",
   "execution_count": 21,
   "metadata": {},
   "outputs": [
    {
     "data": {
      "text/plain": [
       "51084"
      ]
     },
     "execution_count": 21,
     "metadata": {},
     "output_type": "execute_result"
    }
   ],
   "source": [
    "pr_regions['stop_id'].nunique()"
   ]
  },
  {
   "cell_type": "code",
   "execution_count": 22,
   "metadata": {},
   "outputs": [],
   "source": [
    "pr_regions= pr_regions.rename(columns = {\"buffer\" :\"geometry\"})"
   ]
  },
  {
   "cell_type": "code",
   "execution_count": 23,
   "metadata": {},
   "outputs": [],
   "source": [
    "df = pd.read_csv(\"FINAL_DATA.csv\")"
   ]
  },
  {
   "cell_type": "code",
   "execution_count": 24,
   "metadata": {},
   "outputs": [],
   "source": [
    "df = df.head(100)"
   ]
  },
  {
   "cell_type": "code",
   "execution_count": 25,
   "metadata": {},
   "outputs": [
    {
     "data": {
      "text/html": [
       "<div>\n",
       "<style scoped>\n",
       "    .dataframe tbody tr th:only-of-type {\n",
       "        vertical-align: middle;\n",
       "    }\n",
       "\n",
       "    .dataframe tbody tr th {\n",
       "        vertical-align: top;\n",
       "    }\n",
       "\n",
       "    .dataframe thead th {\n",
       "        text-align: right;\n",
       "    }\n",
       "</style>\n",
       "<table border=\"1\" class=\"dataframe\">\n",
       "  <thead>\n",
       "    <tr style=\"text-align: right;\">\n",
       "      <th></th>\n",
       "      <th>V_ID</th>\n",
       "      <th>TripId</th>\n",
       "      <th>RouteId</th>\n",
       "      <th>Trip_StartTime</th>\n",
       "      <th>Trip_StartDate</th>\n",
       "      <th>schedule_relationship</th>\n",
       "      <th>VP_Latitude</th>\n",
       "      <th>VP_Longitude</th>\n",
       "      <th>VP_Bearing</th>\n",
       "      <th>VP_Speed</th>\n",
       "      <th>V_Timestamp</th>\n",
       "      <th>V_occupancy_status</th>\n",
       "      <th>geometry</th>\n",
       "    </tr>\n",
       "  </thead>\n",
       "  <tbody>\n",
       "    <tr>\n",
       "      <th>0</th>\n",
       "      <td>43054_180769313_2459_440_1</td>\n",
       "      <td>1358332</td>\n",
       "      <td>2459_440</td>\n",
       "      <td>12:14:00</td>\n",
       "      <td>20210517</td>\n",
       "      <td>0</td>\n",
       "      <td>-33.887900</td>\n",
       "      <td>151.16745</td>\n",
       "      <td>90</td>\n",
       "      <td>0.0</td>\n",
       "      <td>1621218894</td>\n",
       "      <td>1</td>\n",
       "      <td>POINT (151.16745 -33.88790)</td>\n",
       "    </tr>\n",
       "    <tr>\n",
       "      <th>1</th>\n",
       "      <td>43054_180767478_2459_440_1</td>\n",
       "      <td>1252560</td>\n",
       "      <td>2459_440</td>\n",
       "      <td>11:52:00</td>\n",
       "      <td>20210517</td>\n",
       "      <td>0</td>\n",
       "      <td>-33.888294</td>\n",
       "      <td>151.16277</td>\n",
       "      <td>280</td>\n",
       "      <td>12.2</td>\n",
       "      <td>1621218894</td>\n",
       "      <td>1</td>\n",
       "      <td>POINT (151.16277 -33.88829)</td>\n",
       "    </tr>\n",
       "    <tr>\n",
       "      <th>2</th>\n",
       "      <td>43054_187614839_2459_440_1</td>\n",
       "      <td>1209433</td>\n",
       "      <td>2459_440</td>\n",
       "      <td>12:30:00</td>\n",
       "      <td>20210517</td>\n",
       "      <td>0</td>\n",
       "      <td>-33.877396</td>\n",
       "      <td>151.15670</td>\n",
       "      <td>265</td>\n",
       "      <td>6.0</td>\n",
       "      <td>1621218874</td>\n",
       "      <td>1</td>\n",
       "      <td>POINT (151.15670 -33.87740)</td>\n",
       "    </tr>\n",
       "    <tr>\n",
       "      <th>3</th>\n",
       "      <td>43054_180768965_2459_440_1</td>\n",
       "      <td>1358330</td>\n",
       "      <td>2459_440</td>\n",
       "      <td>11:44:00</td>\n",
       "      <td>20210517</td>\n",
       "      <td>0</td>\n",
       "      <td>-33.890537</td>\n",
       "      <td>151.24315</td>\n",
       "      <td>108</td>\n",
       "      <td>2.4</td>\n",
       "      <td>1621218895</td>\n",
       "      <td>1</td>\n",
       "      <td>POINT (151.24315 -33.89054)</td>\n",
       "    </tr>\n",
       "    <tr>\n",
       "      <th>4</th>\n",
       "      <td>43054_180768967_2459_440_1</td>\n",
       "      <td>1252564</td>\n",
       "      <td>2459_440</td>\n",
       "      <td>12:52:00</td>\n",
       "      <td>20210517</td>\n",
       "      <td>0</td>\n",
       "      <td>-33.890537</td>\n",
       "      <td>151.24315</td>\n",
       "      <td>108</td>\n",
       "      <td>2.4</td>\n",
       "      <td>1621218895</td>\n",
       "      <td>1</td>\n",
       "      <td>POINT (151.24315 -33.89054)</td>\n",
       "    </tr>\n",
       "  </tbody>\n",
       "</table>\n",
       "</div>"
      ],
      "text/plain": [
       "                         V_ID   TripId   RouteId Trip_StartTime  \\\n",
       "0  43054_180769313_2459_440_1  1358332  2459_440       12:14:00   \n",
       "1  43054_180767478_2459_440_1  1252560  2459_440       11:52:00   \n",
       "2  43054_187614839_2459_440_1  1209433  2459_440       12:30:00   \n",
       "3  43054_180768965_2459_440_1  1358330  2459_440       11:44:00   \n",
       "4  43054_180768967_2459_440_1  1252564  2459_440       12:52:00   \n",
       "\n",
       "   Trip_StartDate  schedule_relationship  VP_Latitude  VP_Longitude  \\\n",
       "0        20210517                      0   -33.887900     151.16745   \n",
       "1        20210517                      0   -33.888294     151.16277   \n",
       "2        20210517                      0   -33.877396     151.15670   \n",
       "3        20210517                      0   -33.890537     151.24315   \n",
       "4        20210517                      0   -33.890537     151.24315   \n",
       "\n",
       "   VP_Bearing  VP_Speed  V_Timestamp  V_occupancy_status  \\\n",
       "0          90       0.0   1621218894                   1   \n",
       "1         280      12.2   1621218894                   1   \n",
       "2         265       6.0   1621218874                   1   \n",
       "3         108       2.4   1621218895                   1   \n",
       "4         108       2.4   1621218895                   1   \n",
       "\n",
       "                      geometry  \n",
       "0  POINT (151.16745 -33.88790)  \n",
       "1  POINT (151.16277 -33.88829)  \n",
       "2  POINT (151.15670 -33.87740)  \n",
       "3  POINT (151.24315 -33.89054)  \n",
       "4  POINT (151.24315 -33.89054)  "
      ]
     },
     "execution_count": 25,
     "metadata": {},
     "output_type": "execute_result"
    }
   ],
   "source": [
    "import geopandas as gpd\n",
    "\n",
    "#changing to a GeoDataFrame to create geometry series\n",
    "gdf = gpd.GeoDataFrame(df, geometry=gpd.points_from_xy(df.VP_Longitude,df.VP_Latitude))\n",
    "\n",
    "gdf.head()"
   ]
  },
  {
   "cell_type": "code",
   "execution_count": 26,
   "metadata": {},
   "outputs": [],
   "source": [
    "pr_regions = gpd.GeoDataFrame(gpd.GeoDataFrame(pr_regions))\n",
    "\n",
    "#convert shapes geometry from str to lonestring using wkt.loads\n",
    "pr_regions['geometry'] = pr_regions['geometry'].apply(wkt.loads)\n"
   ]
  },
  {
   "cell_type": "code",
   "execution_count": 27,
   "metadata": {},
   "outputs": [
    {
     "name": "stdout",
     "output_type": "stream",
     "text": [
      "<class 'geopandas.geodataframe.GeoDataFrame'>\n",
      "RangeIndex: 51084 entries, 0 to 51083\n",
      "Data columns (total 2 columns):\n",
      " #   Column    Non-Null Count  Dtype   \n",
      "---  ------    --------------  -----   \n",
      " 0   stop_id   51084 non-null  object  \n",
      " 1   geometry  51084 non-null  geometry\n",
      "dtypes: geometry(1), object(1)\n",
      "memory usage: 798.3+ KB\n"
     ]
    }
   ],
   "source": [
    "pr_regions.info()"
   ]
  },
  {
   "cell_type": "code",
   "execution_count": 30,
   "metadata": {},
   "outputs": [
    {
     "data": {
      "text/html": [
       "<div>\n",
       "<style scoped>\n",
       "    .dataframe tbody tr th:only-of-type {\n",
       "        vertical-align: middle;\n",
       "    }\n",
       "\n",
       "    .dataframe tbody tr th {\n",
       "        vertical-align: top;\n",
       "    }\n",
       "\n",
       "    .dataframe thead th {\n",
       "        text-align: right;\n",
       "    }\n",
       "</style>\n",
       "<table border=\"1\" class=\"dataframe\">\n",
       "  <thead>\n",
       "    <tr style=\"text-align: right;\">\n",
       "      <th></th>\n",
       "      <th>V_ID</th>\n",
       "      <th>TripId</th>\n",
       "      <th>RouteId</th>\n",
       "      <th>Trip_StartTime</th>\n",
       "      <th>Trip_StartDate</th>\n",
       "      <th>schedule_relationship</th>\n",
       "      <th>VP_Latitude</th>\n",
       "      <th>VP_Longitude</th>\n",
       "      <th>VP_Bearing</th>\n",
       "      <th>VP_Speed</th>\n",
       "      <th>V_Timestamp</th>\n",
       "      <th>V_occupancy_status</th>\n",
       "      <th>geometry</th>\n",
       "      <th>region</th>\n",
       "    </tr>\n",
       "  </thead>\n",
       "  <tbody>\n",
       "    <tr>\n",
       "      <th>10</th>\n",
       "      <td>38743_12741503_2435_T80_1</td>\n",
       "      <td>1304316</td>\n",
       "      <td>2435_T80</td>\n",
       "      <td>12:13:00</td>\n",
       "      <td>20210517</td>\n",
       "      <td>0</td>\n",
       "      <td>-33.922310</td>\n",
       "      <td>150.92204</td>\n",
       "      <td>99</td>\n",
       "      <td>1.2</td>\n",
       "      <td>1621218897</td>\n",
       "      <td>1</td>\n",
       "      <td>POINT (150.92204 -33.92231)</td>\n",
       "      <td>287144</td>\n",
       "    </tr>\n",
       "    <tr>\n",
       "      <th>11</th>\n",
       "      <td>38743_12739324_2435_T80_1</td>\n",
       "      <td>1304277</td>\n",
       "      <td>2435_T80</td>\n",
       "      <td>12:10:00</td>\n",
       "      <td>20210517</td>\n",
       "      <td>0</td>\n",
       "      <td>-33.846573</td>\n",
       "      <td>150.90869</td>\n",
       "      <td>214</td>\n",
       "      <td>0.0</td>\n",
       "      <td>1621218898</td>\n",
       "      <td>1</td>\n",
       "      <td>POINT (150.90869 -33.84657)</td>\n",
       "      <td>287144</td>\n",
       "    </tr>\n",
       "    <tr>\n",
       "      <th>13</th>\n",
       "      <td>38743_12741396_2435_T80_1</td>\n",
       "      <td>1304317</td>\n",
       "      <td>2435_T80</td>\n",
       "      <td>12:33:00</td>\n",
       "      <td>20210517</td>\n",
       "      <td>0</td>\n",
       "      <td>-33.889122</td>\n",
       "      <td>150.88316</td>\n",
       "      <td>225</td>\n",
       "      <td>0.0</td>\n",
       "      <td>1621218892</td>\n",
       "      <td>1</td>\n",
       "      <td>POINT (150.88316 -33.88912)</td>\n",
       "      <td>287144</td>\n",
       "    </tr>\n",
       "    <tr>\n",
       "      <th>14</th>\n",
       "      <td>38743_12739376_2435_T80_1</td>\n",
       "      <td>1304276</td>\n",
       "      <td>2435_T80</td>\n",
       "      <td>12:00:00</td>\n",
       "      <td>20210517</td>\n",
       "      <td>0</td>\n",
       "      <td>-33.858940</td>\n",
       "      <td>150.89702</td>\n",
       "      <td>183</td>\n",
       "      <td>8.6</td>\n",
       "      <td>1621218894</td>\n",
       "      <td>1</td>\n",
       "      <td>POINT (150.89702 -33.85894)</td>\n",
       "      <td>287144</td>\n",
       "    </tr>\n",
       "    <tr>\n",
       "      <th>15</th>\n",
       "      <td>38743_12739437_2435_T80_1</td>\n",
       "      <td>1050709</td>\n",
       "      <td>2435_T80</td>\n",
       "      <td>12:20:00</td>\n",
       "      <td>20210517</td>\n",
       "      <td>0</td>\n",
       "      <td>-33.926434</td>\n",
       "      <td>150.87110</td>\n",
       "      <td>12</td>\n",
       "      <td>0.0</td>\n",
       "      <td>1621218892</td>\n",
       "      <td>1</td>\n",
       "      <td>POINT (150.87110 -33.92643)</td>\n",
       "      <td>287144</td>\n",
       "    </tr>\n",
       "  </tbody>\n",
       "</table>\n",
       "</div>"
      ],
      "text/plain": [
       "                         V_ID   TripId   RouteId Trip_StartTime  \\\n",
       "10  38743_12741503_2435_T80_1  1304316  2435_T80       12:13:00   \n",
       "11  38743_12739324_2435_T80_1  1304277  2435_T80       12:10:00   \n",
       "13  38743_12741396_2435_T80_1  1304317  2435_T80       12:33:00   \n",
       "14  38743_12739376_2435_T80_1  1304276  2435_T80       12:00:00   \n",
       "15  38743_12739437_2435_T80_1  1050709  2435_T80       12:20:00   \n",
       "\n",
       "    Trip_StartDate  schedule_relationship  VP_Latitude  VP_Longitude  \\\n",
       "10        20210517                      0   -33.922310     150.92204   \n",
       "11        20210517                      0   -33.846573     150.90869   \n",
       "13        20210517                      0   -33.889122     150.88316   \n",
       "14        20210517                      0   -33.858940     150.89702   \n",
       "15        20210517                      0   -33.926434     150.87110   \n",
       "\n",
       "    VP_Bearing  VP_Speed  V_Timestamp  V_occupancy_status  \\\n",
       "10          99       1.2   1621218897                   1   \n",
       "11         214       0.0   1621218898                   1   \n",
       "13         225       0.0   1621218892                   1   \n",
       "14         183       8.6   1621218894                   1   \n",
       "15          12       0.0   1621218892                   1   \n",
       "\n",
       "                       geometry  region  \n",
       "10  POINT (150.92204 -33.92231)  287144  \n",
       "11  POINT (150.90869 -33.84657)  287144  \n",
       "13  POINT (150.88316 -33.88912)  287144  \n",
       "14  POINT (150.89702 -33.85894)  287144  \n",
       "15  POINT (150.87110 -33.92643)  287144  "
      ]
     },
     "execution_count": 30,
     "metadata": {},
     "output_type": "execute_result"
    }
   ],
   "source": [
    "#identify those records from gdf that are intersecting with the region polygon\n",
    "#this action will return a series with boolean values, if value is True it means the point \n",
    "#in that index location is within the polygon we are evaluating\n",
    "\n",
    "pip = gdf.within(pr_regions.loc[0, 'geometry'])\n",
    "\n",
    "#creating a new gdf keep only the intersecting records\n",
    "so_pr = gdf.loc[pip].copy()\n",
    "\n",
    "#assign region name \n",
    "so_pr['region'] = pr_regions.stop_id[0]\n",
    "\n",
    "so_pr.head()"
   ]
  },
  {
   "cell_type": "code",
   "execution_count": 29,
   "metadata": {},
   "outputs": [
    {
     "data": {
      "text/plain": [
       "array(['287144'], dtype=object)"
      ]
     },
     "execution_count": 29,
     "metadata": {},
     "output_type": "execute_result"
    }
   ],
   "source": [
    "so_pr['region'].unique()"
   ]
  },
  {
   "cell_type": "code",
   "execution_count": null,
   "metadata": {},
   "outputs": [],
   "source": []
  }
 ],
 "metadata": {
  "kernelspec": {
   "display_name": "Python 3",
   "language": "python",
   "name": "python3"
  },
  "language_info": {
   "codemirror_mode": {
    "name": "ipython",
    "version": 3
   },
   "file_extension": ".py",
   "mimetype": "text/x-python",
   "name": "python",
   "nbconvert_exporter": "python",
   "pygments_lexer": "ipython3",
   "version": "3.8.5"
  }
 },
 "nbformat": 4,
 "nbformat_minor": 4
}
